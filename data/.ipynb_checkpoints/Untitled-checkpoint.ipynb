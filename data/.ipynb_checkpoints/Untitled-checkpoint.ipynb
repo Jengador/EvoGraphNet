{
 "cells": [
  {
   "cell_type": "code",
   "execution_count": 46,
   "metadata": {},
   "outputs": [],
   "source": [
    "import numpy as np\n",
    "import matplotlib.pyplot as plt"
   ]
  },
  {
   "cell_type": "code",
   "execution_count": 47,
   "metadata": {},
   "outputs": [],
   "source": [
    "t0 = np.loadtxt(\"cortical.lh.ShapeConnectivityTensor_OAS2_0001_MR1_t0.txt\")\n",
    "t1 = np.loadtxt(\"cortical.lh.ShapeConnectivityTensor_OAS2_0001_MR1_t1.txt\")\n",
    "t2 = np.loadtxt(\"cortical.lh.ShapeConnectivityTensor_OAS2_0001_MR1_t2.txt\")"
   ]
  },
  {
   "cell_type": "code",
   "execution_count": 48,
   "metadata": {},
   "outputs": [],
   "source": [
    "def plot_matrix(m):\n",
    "    plt.matshow(m)\n",
    "    plt.colorbar()\n",
    "    plt.show()"
   ]
  }
 ],
 "metadata": {
  "kernelspec": {
   "display_name": "Python 3",
   "language": "python",
   "name": "python3"
  },
  "language_info": {
   "codemirror_mode": {
    "name": "ipython",
    "version": 3
   },
   "file_extension": ".py",
   "mimetype": "text/x-python",
   "name": "python",
   "nbconvert_exporter": "python",
   "pygments_lexer": "ipython3",
   "version": "3.7.7"
  }
 },
 "nbformat": 4,
 "nbformat_minor": 4
}
